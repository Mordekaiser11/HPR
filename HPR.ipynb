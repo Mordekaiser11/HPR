{
 "cells": [
  {
   "cell_type": "code",
   "execution_count": 2,
   "id": "portuguese-saying",
   "metadata": {},
   "outputs": [],
   "source": [
    "import pandas as pd\n",
    "import numpy as np\n",
    "import sklearn\n",
    "import matplotlib.pyplot as plt\n",
    "import seaborn as sns\n",
    "import plotly\n",
    "from sklearn import preprocessing\n",
    "from sklearn.preprocessing import StandardScaler, Normalizer\n",
    "from sklearn.linear_model import LinearRegression\n",
    "from sklearn.model_selection import train_test_split\n",
    "from sklearn.linear_model import LassoCV, RidgeCV\n",
    "from yellowbrick.regressor import AlphaSelection\n",
    "from sklearn.metrics import r2_score, mean_squared_error\n",
    "from sklearn.linear_model import ElasticNetCV\n",
    "from sklearn.ensemble import GradientBoostingRegressor, AdaBoostRegressor, StackingRegressor"
   ]
  },
  {
   "cell_type": "code",
   "execution_count": 4,
   "id": "instant-mississippi",
   "metadata": {},
   "outputs": [],
   "source": [
    "datam = pd.read_csv(\"/your/path7/to/file\").csv"
   ]
  },
  {
   "cell_type": "code",
   "execution_count": 5,
   "id": "restricted-brain",
   "metadata": {},
   "outputs": [
    {
     "name": "stdout",
     "output_type": "stream",
     "text": [
      "<class 'pandas.core.frame.DataFrame'>\n",
      "RangeIndex: 29451 entries, 0 to 29450\n",
      "Data columns (total 12 columns):\n",
      " #   Column                 Non-Null Count  Dtype  \n",
      "---  ------                 --------------  -----  \n",
      " 0   POSTED_BY              29451 non-null  object \n",
      " 1   UNDER_CONSTRUCTION     29451 non-null  int64  \n",
      " 2   RERA                   29451 non-null  int64  \n",
      " 3   BHK_NO.                29451 non-null  int64  \n",
      " 4   BHK_OR_RK              29451 non-null  object \n",
      " 5   SQUARE_FT              29451 non-null  float64\n",
      " 6   READY_TO_MOVE          29451 non-null  int64  \n",
      " 7   RESALE                 29451 non-null  int64  \n",
      " 8   ADDRESS                29451 non-null  object \n",
      " 9   LONGITUDE              29451 non-null  float64\n",
      " 10  LATITUDE               29451 non-null  float64\n",
      " 11  TARGET(PRICE_IN_LACS)  29451 non-null  float64\n",
      "dtypes: float64(4), int64(5), object(3)\n",
      "memory usage: 2.7+ MB\n"
     ]
    }
   ],
   "source": [
    "datam.info()"
   ]
  },
  {
   "cell_type": "code",
   "execution_count": 6,
   "id": "imposed-buffer",
   "metadata": {},
   "outputs": [
    {
     "data": {
      "text/html": [
       "<div>\n",
       "<style scoped>\n",
       "    .dataframe tbody tr th:only-of-type {\n",
       "        vertical-align: middle;\n",
       "    }\n",
       "\n",
       "    .dataframe tbody tr th {\n",
       "        vertical-align: top;\n",
       "    }\n",
       "\n",
       "    .dataframe thead th {\n",
       "        text-align: right;\n",
       "    }\n",
       "</style>\n",
       "<table border=\"1\" class=\"dataframe\">\n",
       "  <thead>\n",
       "    <tr style=\"text-align: right;\">\n",
       "      <th></th>\n",
       "      <th>UNDER_CONSTRUCTION</th>\n",
       "      <th>RERA</th>\n",
       "      <th>BHK_NO.</th>\n",
       "      <th>SQUARE_FT</th>\n",
       "      <th>READY_TO_MOVE</th>\n",
       "      <th>RESALE</th>\n",
       "      <th>LONGITUDE</th>\n",
       "      <th>LATITUDE</th>\n",
       "      <th>TARGET(PRICE_IN_LACS)</th>\n",
       "    </tr>\n",
       "  </thead>\n",
       "  <tbody>\n",
       "    <tr>\n",
       "      <th>count</th>\n",
       "      <td>29451.000000</td>\n",
       "      <td>29451.000000</td>\n",
       "      <td>29451.000000</td>\n",
       "      <td>2.945100e+04</td>\n",
       "      <td>29451.000000</td>\n",
       "      <td>29451.000000</td>\n",
       "      <td>29451.000000</td>\n",
       "      <td>29451.000000</td>\n",
       "      <td>29451.000000</td>\n",
       "    </tr>\n",
       "    <tr>\n",
       "      <th>mean</th>\n",
       "      <td>0.179756</td>\n",
       "      <td>0.317918</td>\n",
       "      <td>2.392279</td>\n",
       "      <td>1.980217e+04</td>\n",
       "      <td>0.820244</td>\n",
       "      <td>0.929578</td>\n",
       "      <td>21.300255</td>\n",
       "      <td>76.837695</td>\n",
       "      <td>142.898746</td>\n",
       "    </tr>\n",
       "    <tr>\n",
       "      <th>std</th>\n",
       "      <td>0.383991</td>\n",
       "      <td>0.465675</td>\n",
       "      <td>0.879091</td>\n",
       "      <td>1.901335e+06</td>\n",
       "      <td>0.383991</td>\n",
       "      <td>0.255861</td>\n",
       "      <td>6.205306</td>\n",
       "      <td>10.557747</td>\n",
       "      <td>656.880713</td>\n",
       "    </tr>\n",
       "    <tr>\n",
       "      <th>min</th>\n",
       "      <td>0.000000</td>\n",
       "      <td>0.000000</td>\n",
       "      <td>1.000000</td>\n",
       "      <td>3.000000e+00</td>\n",
       "      <td>0.000000</td>\n",
       "      <td>0.000000</td>\n",
       "      <td>-37.713008</td>\n",
       "      <td>-121.761248</td>\n",
       "      <td>0.250000</td>\n",
       "    </tr>\n",
       "    <tr>\n",
       "      <th>25%</th>\n",
       "      <td>0.000000</td>\n",
       "      <td>0.000000</td>\n",
       "      <td>2.000000</td>\n",
       "      <td>9.000211e+02</td>\n",
       "      <td>1.000000</td>\n",
       "      <td>1.000000</td>\n",
       "      <td>18.452663</td>\n",
       "      <td>73.798100</td>\n",
       "      <td>38.000000</td>\n",
       "    </tr>\n",
       "    <tr>\n",
       "      <th>50%</th>\n",
       "      <td>0.000000</td>\n",
       "      <td>0.000000</td>\n",
       "      <td>2.000000</td>\n",
       "      <td>1.175057e+03</td>\n",
       "      <td>1.000000</td>\n",
       "      <td>1.000000</td>\n",
       "      <td>20.750000</td>\n",
       "      <td>77.324137</td>\n",
       "      <td>62.000000</td>\n",
       "    </tr>\n",
       "    <tr>\n",
       "      <th>75%</th>\n",
       "      <td>0.000000</td>\n",
       "      <td>1.000000</td>\n",
       "      <td>3.000000</td>\n",
       "      <td>1.550688e+03</td>\n",
       "      <td>1.000000</td>\n",
       "      <td>1.000000</td>\n",
       "      <td>26.900926</td>\n",
       "      <td>77.828740</td>\n",
       "      <td>100.000000</td>\n",
       "    </tr>\n",
       "    <tr>\n",
       "      <th>max</th>\n",
       "      <td>1.000000</td>\n",
       "      <td>1.000000</td>\n",
       "      <td>20.000000</td>\n",
       "      <td>2.545455e+08</td>\n",
       "      <td>1.000000</td>\n",
       "      <td>1.000000</td>\n",
       "      <td>59.912884</td>\n",
       "      <td>152.962676</td>\n",
       "      <td>30000.000000</td>\n",
       "    </tr>\n",
       "  </tbody>\n",
       "</table>\n",
       "</div>"
      ],
      "text/plain": [
       "       UNDER_CONSTRUCTION          RERA       BHK_NO.     SQUARE_FT  \\\n",
       "count        29451.000000  29451.000000  29451.000000  2.945100e+04   \n",
       "mean             0.179756      0.317918      2.392279  1.980217e+04   \n",
       "std              0.383991      0.465675      0.879091  1.901335e+06   \n",
       "min              0.000000      0.000000      1.000000  3.000000e+00   \n",
       "25%              0.000000      0.000000      2.000000  9.000211e+02   \n",
       "50%              0.000000      0.000000      2.000000  1.175057e+03   \n",
       "75%              0.000000      1.000000      3.000000  1.550688e+03   \n",
       "max              1.000000      1.000000     20.000000  2.545455e+08   \n",
       "\n",
       "       READY_TO_MOVE        RESALE     LONGITUDE      LATITUDE  \\\n",
       "count   29451.000000  29451.000000  29451.000000  29451.000000   \n",
       "mean        0.820244      0.929578     21.300255     76.837695   \n",
       "std         0.383991      0.255861      6.205306     10.557747   \n",
       "min         0.000000      0.000000    -37.713008   -121.761248   \n",
       "25%         1.000000      1.000000     18.452663     73.798100   \n",
       "50%         1.000000      1.000000     20.750000     77.324137   \n",
       "75%         1.000000      1.000000     26.900926     77.828740   \n",
       "max         1.000000      1.000000     59.912884    152.962676   \n",
       "\n",
       "       TARGET(PRICE_IN_LACS)  \n",
       "count           29451.000000  \n",
       "mean              142.898746  \n",
       "std               656.880713  \n",
       "min                 0.250000  \n",
       "25%                38.000000  \n",
       "50%                62.000000  \n",
       "75%               100.000000  \n",
       "max             30000.000000  "
      ]
     },
     "execution_count": 6,
     "metadata": {},
     "output_type": "execute_result"
    }
   ],
   "source": [
    "datam.describe()"
   ]
  },
  {
   "cell_type": "code",
   "execution_count": 7,
   "id": "excessive-payment",
   "metadata": {},
   "outputs": [
    {
     "data": {
      "text/plain": [
       "POSTED_BY                0\n",
       "UNDER_CONSTRUCTION       0\n",
       "RERA                     0\n",
       "BHK_NO.                  0\n",
       "BHK_OR_RK                0\n",
       "SQUARE_FT                0\n",
       "READY_TO_MOVE            0\n",
       "RESALE                   0\n",
       "ADDRESS                  0\n",
       "LONGITUDE                0\n",
       "LATITUDE                 0\n",
       "TARGET(PRICE_IN_LACS)    0\n",
       "dtype: int64"
      ]
     },
     "execution_count": 7,
     "metadata": {},
     "output_type": "execute_result"
    }
   ],
   "source": [
    "datam.isna().sum()"
   ]
  },
  {
   "cell_type": "code",
   "execution_count": 8,
   "id": "digital-tribe",
   "metadata": {},
   "outputs": [
    {
     "data": {
      "text/plain": [
       "<AxesSubplot:>"
      ]
     },
     "execution_count": 8,
     "metadata": {},
     "output_type": "execute_result"
    },
    {
     "data": {
      "image/png": "[encoded data removed]",
      "text/plain": [
       "<Figure size 576x396 with 1 Axes>"
      ]
     },
     "metadata": {},
     "output_type": "display_data"
    }
   ],
   "source": [
    "datam.POSTED_BY.value_counts().plot(kind= 'barh')"
   ]
  },
  {
   "cell_type": "code",
   "execution_count": 9,
   "id": "guided-growth",
   "metadata": {},
   "outputs": [
    {
     "data": {
      "image/png": "[encoded data removed]",
      "text/plain": [
       "<Figure size 576x396 with 1 Axes>"
      ]
     },
     "metadata": {},
     "output_type": "display_data"
    }
   ],
   "source": [
    "graph = datam.groupby('RERA').sum().iloc[:, -1].plot(kind='barh')"
   ]
  },
  {
   "cell_type": "code",
   "execution_count": 10,
   "id": "steady-purchase",
   "metadata": {},
   "outputs": [
    {
     "data": {
      "image/png": "[encoded data removed]",
      "text/plain": [
       "<Figure size 576x396 with 1 Axes>"
      ]
     },
     "metadata": {},
     "output_type": "display_data"
    }
   ],
   "source": [
    "graph = datam.groupby('RERA').sum().iloc[:, 2].plot(kind='bar')"
   ]
  },
  {
   "cell_type": "code",
   "execution_count": 14,
   "id": "elder-encyclopedia",
   "metadata": {},
   "outputs": [
    {
     "data": {
      "image/png": "[encoded data removed]",
      "text/plain": [
       "<Figure size 1800x360 with 1 Axes>"
      ]
     },
     "metadata": {},
     "output_type": "display_data"
    }
   ],
   "source": [
    "plt.figure(figsize = (25 ,5))\n",
    "\n",
    "datam.ADDRESS = datam.ADDRESS.apply(lambda x : x.split(',')[-1])\n",
    "datam.ADDRESS.value_counts()[:20].plot(kind='bar')\n",
    "plt.show()"
   ]
  },
  {
   "cell_type": "code",
   "execution_count": 21,
   "id": "dying-elephant",
   "metadata": {},
   "outputs": [
    {
     "data": {
      "image/png": "[encoded data removed]",
      "text/plain": [
       "<Figure size 1800x432 with 1 Axes>"
      ]
     },
     "metadata": {},
     "output_type": "display_data"
    }
   ],
   "source": [
    "plt.figure(figsize=(25,6))\n",
    "datam.groupby(['ADDRESS']).sum().SQUARE_FT.nlargest(6).plot(kind='pie')\n",
    "plt.show()"
   ]
  },
  {
   "cell_type": "code",
   "execution_count": 22,
   "id": "soviet-split",
   "metadata": {},
   "outputs": [
    {
     "data": {
      "text/plain": [
       "2    13324\n",
       "3    10546\n",
       "1     3574\n",
       "4     1723\n",
       "5      284\n",
       "Name: BHK_NO., dtype: int64"
      ]
     },
     "execution_count": 22,
     "metadata": {},
     "output_type": "execute_result"
    }
   ],
   "source": [
    "datam['BHK_NO.'] = datam['BHK_NO.'].apply(lambda x: x if x < 5 else 5)\n",
    "datam['BHK_NO.'].value_counts()"
   ]
  },
  {
   "cell_type": "code",
   "execution_count": 24,
   "id": "brown-tolerance",
   "metadata": {},
   "outputs": [
    {
     "data": {
      "text/plain": [
       "Diğerlerinden    11794\n",
       "Bangalore         4340\n",
       "Lalitpur          2993\n",
       "Mumbai            2023\n",
       "Pune              1991\n",
       "Noida             1767\n",
       "Kolkata           1709\n",
       "Maharashtra       1579\n",
       "Chennai           1255\n",
       "Name: ADDRESS, dtype: int64"
      ]
     },
     "execution_count": 24,
     "metadata": {},
     "output_type": "execute_result"
    }
   ],
   "source": [
    "enyüksek = datam.ADDRESS.value_counts().nlargest(8).index\n",
    "datam.ADDRESS = datam.ADDRESS.apply(lambda x : x if x in enyüksek else 'Diğerlerinden')\n",
    "datam.ADDRESS.value_counts()"
   ]
  },
  {
   "cell_type": "code",
   "execution_count": 25,
   "id": "forward-stephen",
   "metadata": {},
   "outputs": [
    {
     "data": {
      "text/html": [
       "<div>\n",
       "<style scoped>\n",
       "    .dataframe tbody tr th:only-of-type {\n",
       "        vertical-align: middle;\n",
       "    }\n",
       "\n",
       "    .dataframe tbody tr th {\n",
       "        vertical-align: top;\n",
       "    }\n",
       "\n",
       "    .dataframe thead th {\n",
       "        text-align: right;\n",
       "    }\n",
       "</style>\n",
       "<table border=\"1\" class=\"dataframe\">\n",
       "  <thead>\n",
       "    <tr style=\"text-align: right;\">\n",
       "      <th></th>\n",
       "      <th>POSTED_BY</th>\n",
       "      <th>UNDER_CONSTRUCTION</th>\n",
       "      <th>RERA</th>\n",
       "      <th>BHK_NO.</th>\n",
       "      <th>BHK_OR_RK</th>\n",
       "      <th>SQUARE_FT</th>\n",
       "      <th>READY_TO_MOVE</th>\n",
       "      <th>RESALE</th>\n",
       "      <th>ADDRESS</th>\n",
       "      <th>LONGITUDE</th>\n",
       "      <th>LATITUDE</th>\n",
       "      <th>TARGET(PRICE_IN_LACS)</th>\n",
       "    </tr>\n",
       "  </thead>\n",
       "  <tbody>\n",
       "    <tr>\n",
       "      <th>0</th>\n",
       "      <td>Owner</td>\n",
       "      <td>0</td>\n",
       "      <td>0</td>\n",
       "      <td>2</td>\n",
       "      <td>BHK</td>\n",
       "      <td>1300.236407</td>\n",
       "      <td>1</td>\n",
       "      <td>1</td>\n",
       "      <td>Bangalore</td>\n",
       "      <td>12.969910</td>\n",
       "      <td>77.597960</td>\n",
       "      <td>55.0</td>\n",
       "    </tr>\n",
       "    <tr>\n",
       "      <th>1</th>\n",
       "      <td>Dealer</td>\n",
       "      <td>0</td>\n",
       "      <td>0</td>\n",
       "      <td>2</td>\n",
       "      <td>BHK</td>\n",
       "      <td>1275.000000</td>\n",
       "      <td>1</td>\n",
       "      <td>1</td>\n",
       "      <td>Diğerlerinden</td>\n",
       "      <td>12.274538</td>\n",
       "      <td>76.644605</td>\n",
       "      <td>51.0</td>\n",
       "    </tr>\n",
       "    <tr>\n",
       "      <th>2</th>\n",
       "      <td>Owner</td>\n",
       "      <td>0</td>\n",
       "      <td>0</td>\n",
       "      <td>2</td>\n",
       "      <td>BHK</td>\n",
       "      <td>933.159722</td>\n",
       "      <td>1</td>\n",
       "      <td>1</td>\n",
       "      <td>Bangalore</td>\n",
       "      <td>12.778033</td>\n",
       "      <td>77.632191</td>\n",
       "      <td>43.0</td>\n",
       "    </tr>\n",
       "    <tr>\n",
       "      <th>3</th>\n",
       "      <td>Owner</td>\n",
       "      <td>0</td>\n",
       "      <td>1</td>\n",
       "      <td>2</td>\n",
       "      <td>BHK</td>\n",
       "      <td>929.921143</td>\n",
       "      <td>1</td>\n",
       "      <td>1</td>\n",
       "      <td>Diğerlerinden</td>\n",
       "      <td>28.642300</td>\n",
       "      <td>77.344500</td>\n",
       "      <td>62.5</td>\n",
       "    </tr>\n",
       "    <tr>\n",
       "      <th>4</th>\n",
       "      <td>Dealer</td>\n",
       "      <td>1</td>\n",
       "      <td>0</td>\n",
       "      <td>2</td>\n",
       "      <td>BHK</td>\n",
       "      <td>999.009247</td>\n",
       "      <td>0</td>\n",
       "      <td>1</td>\n",
       "      <td>Kolkata</td>\n",
       "      <td>22.592200</td>\n",
       "      <td>88.484911</td>\n",
       "      <td>60.5</td>\n",
       "    </tr>\n",
       "  </tbody>\n",
       "</table>\n",
       "</div>"
      ],
      "text/plain": [
       "  POSTED_BY  UNDER_CONSTRUCTION  RERA  BHK_NO. BHK_OR_RK    SQUARE_FT  \\\n",
       "0     Owner                   0     0        2       BHK  1300.236407   \n",
       "1    Dealer                   0     0        2       BHK  1275.000000   \n",
       "2     Owner                   0     0        2       BHK   933.159722   \n",
       "3     Owner                   0     1        2       BHK   929.921143   \n",
       "4    Dealer                   1     0        2       BHK   999.009247   \n",
       "\n",
       "   READY_TO_MOVE  RESALE        ADDRESS  LONGITUDE   LATITUDE  \\\n",
       "0              1       1      Bangalore  12.969910  77.597960   \n",
       "1              1       1  Diğerlerinden  12.274538  76.644605   \n",
       "2              1       1      Bangalore  12.778033  77.632191   \n",
       "3              1       1  Diğerlerinden  28.642300  77.344500   \n",
       "4              0       1        Kolkata  22.592200  88.484911   \n",
       "\n",
       "   TARGET(PRICE_IN_LACS)  \n",
       "0                   55.0  \n",
       "1                   51.0  \n",
       "2                   43.0  \n",
       "3                   62.5  \n",
       "4                   60.5  "
      ]
     },
     "execution_count": 25,
     "metadata": {},
     "output_type": "execute_result"
    }
   ],
   "source": [
    "datam.head()"
   ]
  },
  {
   "cell_type": "code",
   "execution_count": 41,
   "id": "agreed-bishop",
   "metadata": {},
   "outputs": [],
   "source": [
    "def label_encoder(datam, column_name):\n",
    "    label_encoder = preprocessing.LabelEncoder()\n",
    "\n",
    "    datam[column_name]= label_encoder.fit_transform(datam[column_name])\n",
    "    print(column_name)\n",
    "    for i in range(len(datam[column_name].unique())):\n",
    "        print(\"For {} : {}\".format(i, label_encoder.inverse_transform([i])))\n",
    "    print('-'*10)\n",
    "    print(datam[column_name].value_counts())\n",
    "    print('-'*10)\n",
    "    \n",
    "    return datam[column_name], label_encoder\n",
    "        "
   ]
  },
  {
   "cell_type": "code",
   "execution_count": 42,
   "id": "painful-motorcycle",
   "metadata": {},
   "outputs": [
    {
     "name": "stdout",
     "output_type": "stream",
     "text": [
      "POSTED_BY\n",
      "For 0 : ['Builder']\n",
      "For 1 : ['Dealer']\n",
      "For 2 : ['Owner']\n",
      "----------\n",
      "1    18291\n",
      "2    10538\n",
      "0      622\n",
      "Name: POSTED_BY, dtype: int64\n",
      "----------\n",
      "BHK_OR_RK\n",
      "For 0 : ['BHK']\n",
      "For 1 : ['RK']\n",
      "----------\n",
      "0    29427\n",
      "1       24\n",
      "Name: BHK_OR_RK, dtype: int64\n",
      "----------\n",
      "ADDRESS\n",
      "For 0 : ['Bangalore']\n",
      "For 1 : ['Chennai']\n",
      "For 2 : ['Diğerlerinden']\n",
      "For 3 : ['Kolkata']\n",
      "For 4 : ['Lalitpur']\n",
      "For 5 : ['Maharashtra']\n",
      "For 6 : ['Mumbai']\n",
      "For 7 : ['Noida']\n",
      "For 8 : ['Pune']\n",
      "----------\n",
      "2    11794\n",
      "0     4340\n",
      "4     2993\n",
      "6     2023\n",
      "8     1991\n",
      "7     1767\n",
      "3     1709\n",
      "5     1579\n",
      "1     1255\n",
      "Name: ADDRESS, dtype: int64\n",
      "----------\n"
     ]
    }
   ],
   "source": [
    "datam['POSTED_BY'], label_encoder_posted_by = label_encoder(datam, 'POSTED_BY')\n",
    "datam['BHK_OR_RK'], label_encoder_posted_by = label_encoder(datam, 'BHK_OR_RK')\n",
    "datam['ADDRESS'], label_encoder_posted_by = label_encoder(datam, 'ADDRESS')"
   ]
  },
  {
   "cell_type": "code",
   "execution_count": 43,
   "id": "numeric-physics",
   "metadata": {},
   "outputs": [],
   "source": [
    "X = datam.iloc[:, :-1]\n",
    "y = datam.iloc[:, -1]"
   ]
  },
  {
   "cell_type": "code",
   "execution_count": 44,
   "id": "metallic-visibility",
   "metadata": {},
   "outputs": [],
   "source": [
    "scaler = StandardScaler()\n",
    "norm = Normalizer()\n",
    "\n",
    "X_stand = scaler.fit_transform(X)\n",
    "X_norm = norm.fit_transform(X)"
   ]
  },
  {
   "cell_type": "code",
   "execution_count": 45,
   "id": "exotic-sheffield",
   "metadata": {},
   "outputs": [],
   "source": [
    "X_stand_train, X_stand_test, y_stand_train, y_stand_test = train_test_split(X_stand, y, test_size=0.33, random_state=42)\n",
    "X_norm_train, X_norm_test, y_norm_train, y_norm_test = train_test_split(X_norm, y, test_size=0.33, random_state=42)\n",
    "X_train, X_test, y_train, y_test = train_test_split(X, y, test_size=0.33, random_state=42)"
   ]
  },
  {
   "cell_type": "code",
   "execution_count": 48,
   "id": "hydraulic-catalog",
   "metadata": {},
   "outputs": [],
   "source": [
    "def modelim(name, model):\n",
    "    classificationn = model.fit(X_train, y_train)\n",
    "    classificationn_standardscaleolan = model.fit(X_stand_train, y_stand_train)\n",
    "    classification_normalizeoolan = model.fit(X_norm_train, y_norm_train)\n",
    "    y_tahminyaniyüssü = classificationn.predict(X_test)\n",
    "    y_standardolanınüssü = classificationn_standardscaleolan.predict(X_stand_test)\n",
    "    y_normalizeüssü = classification_normalizeoolan.predict(X_norm_test)\n",
    "    print(name)\n",
    "    print(\"Orjinali:\")\n",
    "    print(\"R2 : \",r2_score(y_test, y_tahminyaniyüssü))\n",
    "    print(\"MSE : \",mean_squared_error(y_test, y_tahminyaniyüssü))\n",
    "    print(\"-\"*21)\n",
    "    print(\"Yani:\")\n",
    "    print(\"R2 : \",r2_score(y_stand_test, y_standardolanınüssü))\n",
    "    print(\"MSE : \",mean_squared_error(y_stand_test, y_standardolanınüssü))\n",
    "    print(\"-\"*7)\n",
    "    print(\"Normalize:\")\n",
    "    print(\"R2 : \",r2_score(y_norm_test,y_normalizeüssü))\n",
    "    print(\"MSE : \",mean_squared_error(y_norm_test, y_normalizeüssü))\n",
    "    print(\"=\"*10)\n",
    "    return classificationn, classificationn_standardscaleolan, classification_normalizeoolan"
   ]
  },
  {
   "cell_type": "code",
   "execution_count": 49,
   "id": "meaningful-violence",
   "metadata": {},
   "outputs": [
    {
     "name": "stdout",
     "output_type": "stream",
     "text": [
      "Linear Regression\n",
      "Orjinali:\n",
      "R2 :  -785072334658278.2\n",
      "MSE :  3.488889316304246e+20\n",
      "---------------------\n",
      "Yani:\n",
      "R2 :  -122616.27422374807\n",
      "MSE :  54491551816.02362\n",
      "-------\n",
      "Normalize:\n",
      "R2 :  0.05947034057078493\n",
      "MSE :  417974.71845421294\n",
      "==========\n",
      "Lasso Regression\n",
      "Orjinali:\n",
      "R2 :  -732365586769661.1\n",
      "MSE :  3.2546586582009014e+20\n",
      "---------------------\n",
      "Yani:\n",
      "R2 :  -55187.8727878385\n",
      "MSE :  24526130924.25104\n",
      "-------\n",
      "Normalize:\n",
      "R2 :  0.057831106011818845\n",
      "MSE :  418703.2001096241\n",
      "==========\n",
      "Ridge Regression\n",
      "Orjinali:\n",
      "R2 :  -383396337945594.2\n",
      "MSE :  1.703826932012312e+20\n",
      "---------------------\n",
      "Yani:\n",
      "R2 :  -786.1064722489459\n",
      "MSE :  349792909.59457725\n",
      "-------\n",
      "Normalize:\n",
      "R2 :  0.03920272690973681\n",
      "MSE :  426981.71789201524\n",
      "==========\n",
      "Elastic Net\n",
      "Orjinali:\n",
      "R2 :  -319615276.282841\n",
      "MSE :  142038163492934.3\n",
      "---------------------\n",
      "Yani:\n",
      "R2 :  -1.1284738917136243\n",
      "MSE :  945901.3511238457\n",
      "-------\n",
      "Normalize:\n",
      "R2 :  0.01278460525035452\n",
      "MSE :  438722.02491154155\n",
      "==========\n",
      "Elastic Net\n",
      "Orjinali:\n",
      "R2 :  -319615276.282841\n",
      "MSE :  142038163492934.3\n",
      "---------------------\n",
      "Yani:\n",
      "R2 :  -1.1284738917136243\n",
      "MSE :  945901.3511238457\n",
      "-------\n",
      "Normalize:\n",
      "R2 :  0.01278460525035452\n",
      "MSE :  438722.02491154155\n",
      "==========\n",
      "Gradient\n",
      "Orjinali:\n",
      "R2 :  -12.08002335219012\n",
      "MSE :  5812808.796826311\n",
      "---------------------\n",
      "Yani:\n",
      "R2 :  -14.774299262515566\n",
      "MSE :  7010154.572970865\n",
      "-------\n",
      "Normalize:\n",
      "R2 :  0.7576806466252952\n",
      "MSE :  107687.58059609267\n",
      "==========\n",
      "Ada\n",
      "Orjinali:\n",
      "R2 :  -2.3898752538989427\n",
      "MSE :  1506472.5930101832\n",
      "---------------------\n",
      "Yani:\n",
      "R2 :  -1006.0217249852064\n",
      "MSE :  447524028.3580291\n",
      "-------\n",
      "Normalize:\n",
      "R2 :  0.7105714405032673\n",
      "MSE :  128623.07898048783\n",
      "==========\n"
     ]
    }
   ],
   "source": [
    "_,_, Linear = modelim(\"Linear Regression\", LinearRegression())\n",
    "_,_, Lasso = modelim(\"Lasso Regression\", LassoCV(cv=10))\n",
    "_,_, Ridge = modelim(\"Ridge Regression\", RidgeCV((0.1, 1.0, 5.0, 10)))\n",
    "_,_, ElasticNet = modelim(\"Elastic Net\", ElasticNetCV(l1_ratio=0.5))\n",
    "_,_, ElasticNet = modelim(\"Elastic Net\", ElasticNetCV())\n",
    "_,_, Gradient = modelim(\"Gradient\", GradientBoostingRegressor())\n",
    "_,_, AdaBoost = modelim(\"Ada\", AdaBoostRegressor())"
   ]
  },
  {
   "cell_type": "code",
   "execution_count": 53,
   "id": "hired-cartoon",
   "metadata": {},
   "outputs": [],
   "source": [
    "tahminediciler = [('Gradient', Gradient),('Support Vector Regression', AdaBoost)]\n",
    "reg = StackingRegressor(estimators=tahminediciler, final_estimator=LinearRegression())\n",
    "reg.fit(X_norm_train, y_norm_train)\n",
    "y_normalizeüssü = reg.predict(X_norm_test)"
   ]
  },
  {
   "cell_type": "code",
   "execution_count": 55,
   "id": "emotional-pride",
   "metadata": {},
   "outputs": [
    {
     "name": "stdout",
     "output_type": "stream",
     "text": [
      "Normalize edilmiş hali:\n",
      "R2 :  0.752082089648\n",
      "MSE :  110175.59918527245\n",
      "Kolaydı\n"
     ]
    }
   ],
   "source": [
    "print(\"Normalize edilmiş hali:\")\n",
    "print(\"R2 : \",r2_score(y_norm_test,y_normalizeüssü))\n",
    "print(\"MSE : \",mean_squared_error(y_norm_test, y_normalizeüssü))\n",
    "print(\"Kolaydı\")"
   ]
  }
 ],
 "metadata": {
  "kernelspec": {
   "display_name": "Python 3",
   "language": "python",
   "name": "python3"
  },
  "language_info": {
   "codemirror_mode": {
    "name": "ipython",
    "version": 3
   },
   "file_extension": ".py",
   "mimetype": "text/x-python",
   "name": "python",
   "nbconvert_exporter": "python",
   "pygments_lexer": "ipython3",
   "version": "3.8.5"
  }
 },
 "nbformat": 4,
 "nbformat_minor": 5
}
